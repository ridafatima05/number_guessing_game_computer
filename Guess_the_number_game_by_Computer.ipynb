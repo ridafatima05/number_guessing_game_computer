{
  "nbformat": 4,
  "nbformat_minor": 0,
  "metadata": {
    "colab": {
      "provenance": [],
      "authorship_tag": "ABX9TyMZv/rsQF97ZrWA+BMNtrkf",
      "include_colab_link": true
    },
    "kernelspec": {
      "name": "python3",
      "display_name": "Python 3"
    },
    "language_info": {
      "name": "python"
    }
  },
  "cells": [
    {
      "cell_type": "markdown",
      "metadata": {
        "id": "view-in-github",
        "colab_type": "text"
      },
      "source": [
        "<a href=\"https://colab.research.google.com/github/ridafatima05/number_guessing_game_computer/blob/main/Guess_the_number_game_by_Computer.ipynb\" target=\"_parent\"><img src=\"https://colab.research.google.com/assets/colab-badge.svg\" alt=\"Open In Colab\"/></a>"
      ]
    },
    {
      "cell_type": "markdown",
      "source": [
        "#**🤖 Number Guessing Game (Computer vs. Player) 🎮**"
      ],
      "metadata": {
        "id": "iGp27cfxBb5-"
      }
    },
    {
      "cell_type": "code",
      "execution_count": 4,
      "metadata": {
        "colab": {
          "base_uri": "https://localhost:8080/"
        },
        "id": "K58lBrcx60S5",
        "outputId": "c44d2997-251b-4832-a650-084631139a7f"
      },
      "outputs": [
        {
          "output_type": "stream",
          "name": "stdout",
          "text": [
            "\n",
            "🎮 Welcome to the Number Guessing Game!\n",
            "I have picked a number between 1 and 50. Can you guess it?\n",
            "\n",
            "You have 5 attempts left. Enter your guess: 5\n",
            "📉 Too low! Try again.\n",
            "\n",
            "You have 4 attempts left. Enter your guess: 11\n",
            "📈 Too high! Try again.\n",
            "\n",
            "You have 3 attempts left. Enter your guess: 8\n",
            "📈 Too high! Try again.\n",
            "\n",
            "You have 2 attempts left. Enter your guess: 6\n",
            "🎉 Amazing! You guessed the correct number!\n",
            "\n",
            "🔁 Do you want to play again? (yes/no): no\n",
            "👋 Thanks for playing! Goodbye!\n"
          ]
        }
      ],
      "source": [
        "import random\n",
        "\n",
        "def guess_number():\n",
        "    \"\"\"\n",
        "    Project: Guess the Number Game\n",
        "    - The computer picks a number between 1 and 50.\n",
        "    - The player has 5 chances to guess it.\n",
        "    - Gives hints like \"very close\" or \"way off.\"\n",
        "    - Option to play again after finishing.\n",
        "    \"\"\"\n",
        "\n",
        "    while True:  # Loop to allow replaying the game\n",
        "        number = random.randint(1, 50)  # Pick a random number\n",
        "        guesses_left = 5\n",
        "\n",
        "        print(\"\\n🎮 Welcome to the Number Guessing Game!\")\n",
        "        print(\"I have picked a number between 1 and 50. Can you guess it?\")\n",
        "\n",
        "        while guesses_left > 0:\n",
        "            try:\n",
        "                guess = int(input(f\"\\nYou have {guesses_left} attempts left. Enter your guess: \"))\n",
        "\n",
        "                # Check if the guess is within range\n",
        "                if guess < 1 or guess > 50:\n",
        "                    print(\"⚠ Please enter a number between 1 and 50.\")\n",
        "                    continue\n",
        "\n",
        "                # Check if the guess is correct\n",
        "                if guess == number:\n",
        "                    print(\"🎉 Amazing! You guessed the correct number!\")\n",
        "                    break\n",
        "                elif guess < number:\n",
        "                    print(\"📉 Too low! Try again.\")\n",
        "                else:\n",
        "                    print(\"📈 Too high! Try again.\")\n",
        "\n",
        "                guesses_left -= 1\n",
        "\n",
        "            except ValueError:\n",
        "                print(\"⚠ Invalid input. Please enter a number.\")\n",
        "\n",
        "        # If out of guesses, reveal the answer\n",
        "        if guesses_left == 0:\n",
        "            print(f\"\\n😞 Game Over! The correct number was {number}.\")\n",
        "\n",
        "        # Ask if the user wants to play again\n",
        "        play_again = input(\"\\n🔁 Do you want to play again? (yes/no): \").strip().lower()\n",
        "        if play_again != \"yes\":\n",
        "            print(\"👋 Thanks for playing! Goodbye!\")\n",
        "            break  # Exit the loop if the user does not want to play again\n",
        "\n",
        "# Run the game\n",
        "guess_number()\n"
      ]
    }
  ]
}